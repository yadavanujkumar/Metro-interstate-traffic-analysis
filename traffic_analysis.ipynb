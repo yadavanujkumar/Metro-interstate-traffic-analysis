{
 "cells": [
  {
   "cell_type": "markdown",
   "metadata": {},
   "source": [
    "# Metro Interstate Traffic Volume Analysis\n",
    "## Comprehensive EDA and ML/DL Modeling\n",
    "\n",
    "This notebook performs complete analysis of the metro interstate traffic dataset using:\n",
    "- Exploratory Data Analysis (EDA)\n",
    "- Traditional Machine Learning Models\n",
    "- Deep Learning Models (Neural Networks, LSTM)\n",
    "- Model Comparison and Evaluation"
   ]
  },
  {
   "cell_type": "code",
   "execution_count": null,
   "metadata": {},
   "outputs": [],
   "source": [
    "# Import the analysis class\n",
    "from traffic_analysis import MetroTrafficAnalysis\n",
    "\n",
    "# Initialize the analysis\n",
    "analysis = MetroTrafficAnalysis('Metro_Interstate_Traffic_Volume.csv')"
   ]
  },
  {
   "cell_type": "markdown",
   "metadata": {},
   "source": [
    "## 1. Load and Explore Data"
   ]
  },
  {
   "cell_type": "code",
   "execution_count": null,
   "metadata": {},
   "outputs": [],
   "source": [
    "# Load the dataset\n",
    "df = analysis.load_data()"
   ]
  },
  {
   "cell_type": "markdown",
   "metadata": {},
   "source": [
    "## 2. Exploratory Data Analysis"
   ]
  },
  {
   "cell_type": "code",
   "execution_count": null,
   "metadata": {},
   "outputs": [],
   "source": [
    "# Perform EDA\n",
    "analysis.perform_eda()"
   ]
  },
  {
   "cell_type": "markdown",
   "metadata": {},
   "source": [
    "## 3. Create Visualizations"
   ]
  },
  {
   "cell_type": "code",
   "execution_count": null,
   "metadata": {},
   "outputs": [],
   "source": [
    "# Create comprehensive visualizations\n",
    "analysis.create_visualizations()"
   ]
  },
  {
   "cell_type": "markdown",
   "metadata": {},
   "source": [
    "## 4. Prepare Data for Modeling"
   ]
  },
  {
   "cell_type": "code",
   "execution_count": null,
   "metadata": {},
   "outputs": [],
   "source": [
    "# Prepare and split data\n",
    "analysis.prepare_data()"
   ]
  },
  {
   "cell_type": "markdown",
   "metadata": {},
   "source": [
    "## 5. Train Machine Learning Models"
   ]
  },
  {
   "cell_type": "code",
   "execution_count": null,
   "metadata": {},
   "outputs": [],
   "source": [
    "# Train traditional ML models\n",
    "analysis.train_ml_models()"
   ]
  },
  {
   "cell_type": "markdown",
   "metadata": {},
   "source": [
    "## 6. Train Deep Learning Models"
   ]
  },
  {
   "cell_type": "code",
   "execution_count": null,
   "metadata": {},
   "outputs": [],
   "source": [
    "# Train DL models (Neural Networks, LSTM)\n",
    "analysis.train_dl_models()"
   ]
  },
  {
   "cell_type": "markdown",
   "metadata": {},
   "source": [
    "## 7. Compare All Models"
   ]
  },
  {
   "cell_type": "code",
   "execution_count": null,
   "metadata": {},
   "outputs": [],
   "source": [
    "# Compare model performance\n",
    "analysis.compare_models()"
   ]
  },
  {
   "cell_type": "markdown",
   "metadata": {},
   "source": [
    "## 8. View Results and Visualizations"
   ]
  },
  {
   "cell_type": "code",
   "execution_count": null,
   "metadata": {},
   "outputs": [],
   "source": [
    "# Display the generated visualizations\n",
    "from IPython.display import Image, display\n",
    "import json\n",
    "\n",
    "print(\"\\n=== VISUALIZATIONS ===\")\n",
    "print(\"\\n1. Traffic Analysis Overview:\")\n",
    "display(Image('visualizations/traffic_analysis_overview.png'))\n",
    "\n",
    "print(\"\\n2. Correlation Heatmap:\")\n",
    "display(Image('visualizations/correlation_heatmap.png'))\n",
    "\n",
    "print(\"\\n3. Temperature vs Traffic:\")\n",
    "display(Image('visualizations/temp_vs_traffic.png'))\n",
    "\n",
    "print(\"\\n4. Model Comparison:\")\n",
    "display(Image('visualizations/model_comparison.png'))\n",
    "\n",
    "print(\"\\n=== MODEL RESULTS ===\")\n",
    "with open('model_results.json', 'r') as f:\n",
    "    results = json.load(f)\n",
    "    for model, metrics in results.items():\n",
    "        print(f\"\\n{model}:\")\n",
    "        print(f\"  Test RMSE: {metrics['test_rmse']:.2f}\")\n",
    "        print(f\"  Test MAE: {metrics['test_mae']:.2f}\")\n",
    "        print(f\"  Test R²: {metrics['test_r2']:.4f}\")"
   ]
  },
  {
   "cell_type": "markdown",
   "metadata": {},
   "source": [
    "## Conclusion\n",
    "\n",
    "This analysis demonstrates:\n",
    "- Strong temporal patterns in traffic volume\n",
    "- Weather impact on traffic\n",
    "- Best performing models: Random Forest and XGBoost (R² > 0.96)\n",
    "- Deep learning models show promise but require further tuning\n",
    "\n",
    "### Next Steps:\n",
    "1. Hyperparameter tuning for best models\n",
    "2. Feature engineering with lag features\n",
    "3. Deploy model as REST API\n",
    "4. Create real-time prediction dashboard"
   ]
  }
 ],
 "metadata": {
  "kernelspec": {
   "display_name": "Python 3",
   "language": "python",
   "name": "python3"
  },
  "language_info": {
   "codemirror_mode": {
    "name": "ipython",
    "version": 3
   },
   "file_extension": ".py",
   "mimetype": "text/x-python",
   "name": "python",
   "nbconvert_exporter": "python",
   "pygments_lexer": "ipython3",
   "version": "3.12.3"
  }
 },
 "nbformat": 4,
 "nbformat_minor": 4
}
